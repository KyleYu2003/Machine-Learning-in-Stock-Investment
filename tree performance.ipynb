{
 "cells": [
  {
   "cell_type": "code",
   "execution_count": 22,
   "metadata": {},
   "outputs": [],
   "source": [
    "import numpy as np\n",
    "import pandas as pd\n",
    "import matplotlib.pyplot as plt\n",
    "import joblib\n",
    "import xgboost as xgb"
   ]
  },
  {
   "cell_type": "code",
   "execution_count": 23,
   "metadata": {},
   "outputs": [],
   "source": [
    "data = pd.read_csv('factor_pass9.csv', index_col=0)\n",
    "data['continuous_count'] = data.groupby((data['evebit'] != data['evebit'].shift(1)).cumsum()).cumcount() + 1\n",
    "data = data.reindex(columns=data.columns.tolist()[:-2] + ['continuous_count', 'return'])\n",
    "data.dropna(inplace=True)\n",
    "\n",
    "insample_data = data.loc[data.loc[:, 'date'] < \"2022-01-01\", :]\n",
    "insample_data_sorted = insample_data.sort_values('date')\n",
    "insample_data_sorted['rank'] = insample_data_sorted['date'].rank()\n",
    "sum_of_weight = (insample_data_sorted['rank']).sum()\n",
    "insample_data_sorted['weight'] = insample_data_sorted['rank'] / sum_of_weight\n",
    "outdsample_data = data.loc[data.loc[:, 'date'] >= \"2022-01-01\", :]\n",
    "\n",
    "X = insample_data_sorted.iloc[:, 3:-3].astype(float)\n",
    "y = insample_data_sorted.iloc[:, -3].astype(float)\n",
    "other_info_insample = insample_data_sorted.iloc[:, :3]\n",
    "other_info_outsample_test = outdsample_data.iloc[:, :3]\n",
    "X_outsample_test = outdsample_data.iloc[:, 3:-1].astype(float)\n",
    "y_outsample_test = outdsample_data.iloc[:, -1].astype(float)"
   ]
  },
  {
   "cell_type": "code",
   "execution_count": 24,
   "metadata": {},
   "outputs": [],
   "source": [
    "lightGBM_pre = pd.read_csv('./result/lightGBM.csv', index_col=0)"
   ]
  },
  {
   "cell_type": "code",
   "execution_count": 25,
   "metadata": {},
   "outputs": [
    {
     "name": "stdout",
     "output_type": "stream",
     "text": [
      "0.0009147840246896783\n",
      "-6.405472712400547\n"
     ]
    }
   ],
   "source": [
    "from sklearn.metrics import mean_squared_error\n",
    "\n",
    "print(mean_squared_error(lightGBM_pre[\"preds\"], y_outsample_test))\n",
    "print((np.corrcoef(lightGBM_pre[\"preds\"].values.reshape(-1, 1), y_outsample_test.values.reshape(-1, 1))[0, 1])**2)"
   ]
  },
  {
   "cell_type": "code",
   "execution_count": 21,
   "metadata": {},
   "outputs": [
    {
     "name": "stdout",
     "output_type": "stream",
     "text": [
      "0.0007947575549582864\n",
      "0.002069444350199031\n"
     ]
    }
   ],
   "source": [
    "XGBoost_pre = pd.read_csv('./result/XGBoost.csv', index_col=0)\n",
    "print(mean_squared_error(XGBoost_pre[\"preds\"], y_outsample_test))\n",
    "print((np.corrcoef(XGBoost_pre[\"preds\"], y_outsample_test)[0, 1])**2)"
   ]
  },
  {
   "cell_type": "code",
   "execution_count": 6,
   "metadata": {},
   "outputs": [],
   "source": [
    "def cal_ICIR(data: pd.DataFrame, feild: str) -> tuple[float, float]:\n",
    "    \"\"\"\n",
    "    data is a dataframe with columns: date, return, factor feild\n",
    "    feild is the factor name\n",
    "    return IC and IR\n",
    "    \"\"\"\n",
    "    data = data.loc[:, ['date', 'return', feild]]\n",
    "    data.dropna(inplace=True)\n",
    "    IC_dataframe = data.groupby('date').apply(lambda x: x.corr(method='spearman')[feild]['return'])\n",
    "    return IC_dataframe.mean(), IC_dataframe.mean()/IC_dataframe.std()\n",
    "\n",
    "def test_factor(ICIR: tuple[float, float]) -> str:\n",
    "    \"\"\"\n",
    "    ICIR is a tuple of IC and IR\n",
    "    return the test result\n",
    "    \"\"\"\n",
    "    if abs(ICIR[0]) > 0.01 and abs(ICIR[1]) > 0.03:\n",
    "        return 'pass'\n",
    "    else:\n",
    "        return 'fail'"
   ]
  },
  {
   "cell_type": "code",
   "execution_count": 9,
   "metadata": {},
   "outputs": [
    {
     "name": "stdout",
     "output_type": "stream",
     "text": [
      "9.800372066852508e-05\n",
      "0.9017003345453547\n",
      "(0.8261400953101508, 4.80196378113545)\n"
     ]
    }
   ],
   "source": [
    "lightGBM = joblib.load(\"./model/lightGBM.pkl\")\n",
    "lightGBM_insample_pre = lightGBM.predict(X)\n",
    "print(mean_squared_error(lightGBM_insample_pre, y))\n",
    "print((np.corrcoef(lightGBM_insample_pre, y)[0, 1])**2)\n",
    "matrix_in = pd.concat([other_info_insample, pd.DataFrame(lightGBM_insample_pre, columns=['preds'], index = X.index), y], axis=1)\n",
    "ICIR = cal_ICIR(matrix_in, \"preds\")\n",
    "print(ICIR)"
   ]
  },
  {
   "cell_type": "code",
   "execution_count": 10,
   "metadata": {},
   "outputs": [
    {
     "name": "stdout",
     "output_type": "stream",
     "text": [
      "0.0004617549888544504\n",
      "0.6850150090626411\n",
      "(0.5961660201591119, 1.7324273273604236)\n"
     ]
    }
   ],
   "source": [
    "XGBoost = joblib.load(\"./model/XGBoost.pkl\")\n",
    "XGBoost_insample_pre = XGBoost.predict(xgb.DMatrix(X))\n",
    "print(mean_squared_error(XGBoost_insample_pre, y))\n",
    "print((np.corrcoef(XGBoost_insample_pre, y)[0, 1])**2)\n",
    "matrix_in = pd.concat([other_info_insample, pd.DataFrame(XGBoost_insample_pre, columns=['preds'], index = X.index), y], axis=1)\n",
    "ICIR = cal_ICIR(matrix_in, \"preds\")\n",
    "print(ICIR)"
   ]
  }
 ],
 "metadata": {
  "kernelspec": {
   "display_name": "base",
   "language": "python",
   "name": "python3"
  },
  "language_info": {
   "codemirror_mode": {
    "name": "ipython",
    "version": 3
   },
   "file_extension": ".py",
   "mimetype": "text/x-python",
   "name": "python",
   "nbconvert_exporter": "python",
   "pygments_lexer": "ipython3",
   "version": "3.9.16"
  }
 },
 "nbformat": 4,
 "nbformat_minor": 2
}
