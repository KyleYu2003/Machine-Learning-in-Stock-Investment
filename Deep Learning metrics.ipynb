{
 "cells": [
  {
   "cell_type": "code",
   "execution_count": 1,
   "metadata": {},
   "outputs": [],
   "source": [
    "import tensorflow as tf\n",
    "import numpy as np\n",
    "import pandas as pd"
   ]
  },
  {
   "cell_type": "code",
   "execution_count": 2,
   "metadata": {},
   "outputs": [],
   "source": [
    "NN = tf.keras.models.load_model(\"./model/NN\")\n",
    "CNN = tf.keras.models.load_model(\"./model/CNN\")"
   ]
  },
  {
   "cell_type": "code",
   "execution_count": 3,
   "metadata": {},
   "outputs": [],
   "source": [
    "from sklearn.model_selection import train_test_split"
   ]
  },
  {
   "cell_type": "code",
   "execution_count": 4,
   "metadata": {},
   "outputs": [],
   "source": [
    "data = pd.read_csv('factor_pass9.csv', index_col=0)\n",
    "data['continuous_count'] = data.groupby((data['evebit'] != data['evebit'].shift(1)).cumsum()).cumcount() + 1\n",
    "data = data.reindex(columns=data.columns.tolist()[:-2] + ['continuous_count', 'return'])\n",
    "data.dropna(inplace=True)\n",
    "\n",
    "insample_data = data.loc[data.loc[:, 'date'] < \"2022-01-01\", :]\n",
    "other_info_insample = insample_data.iloc[:, :3]\n",
    "insample_data_sorted = insample_data.sort_values('date')\n",
    "insample_data_sorted['rank'] = insample_data_sorted['date'].rank()\n",
    "sum_of_weight = (insample_data_sorted['rank']).sum()\n",
    "insample_data_sorted['weight'] = insample_data_sorted['rank'] / sum_of_weight\n",
    "outdsample_data = data.loc[data.loc[:, 'date'] >= \"2022-01-01\", :]\n",
    "\n",
    "X = insample_data_sorted.iloc[:, 3:-3]\n",
    "y = insample_data_sorted.iloc[:, -3]\n",
    "other_info_outsample_test = outdsample_data.iloc[:, :3]\n",
    "X_outsample_test = outdsample_data.iloc[:, 3:-1]\n",
    "y_outsample_test = outdsample_data.iloc[:, -1]"
   ]
  },
  {
   "cell_type": "code",
   "execution_count": 5,
   "metadata": {},
   "outputs": [],
   "source": [
    "from sklearn.preprocessing import StandardScaler\n",
    "\n",
    "scaler_X = StandardScaler()\n",
    "\n",
    "X_scaled = scaler_X.fit_transform(X)\n",
    "\n",
    "X_scaled = pd.DataFrame(X_scaled, index=X.index, columns=X.columns)\n",
    "\n",
    "X_outsample_test_scaled = scaler_X.transform(X_outsample_test)"
   ]
  },
  {
   "cell_type": "code",
   "execution_count": 6,
   "metadata": {},
   "outputs": [
    {
     "data": {
      "text/html": [
       "<div>\n",
       "<style scoped>\n",
       "    .dataframe tbody tr th:only-of-type {\n",
       "        vertical-align: middle;\n",
       "    }\n",
       "\n",
       "    .dataframe tbody tr th {\n",
       "        vertical-align: top;\n",
       "    }\n",
       "\n",
       "    .dataframe thead th {\n",
       "        text-align: right;\n",
       "    }\n",
       "</style>\n",
       "<table border=\"1\" class=\"dataframe\">\n",
       "  <thead>\n",
       "    <tr style=\"text-align: right;\">\n",
       "      <th></th>\n",
       "      <th>id</th>\n",
       "      <th>name</th>\n",
       "      <th>date</th>\n",
       "      <th>return</th>\n",
       "    </tr>\n",
       "  </thead>\n",
       "  <tbody>\n",
       "    <tr>\n",
       "      <th>20</th>\n",
       "      <td>338</td>\n",
       "      <td>潍柴动力</td>\n",
       "      <td>2016-02-01</td>\n",
       "      <td>0.016925</td>\n",
       "    </tr>\n",
       "    <tr>\n",
       "      <th>21</th>\n",
       "      <td>338</td>\n",
       "      <td>潍柴动力</td>\n",
       "      <td>2016-02-02</td>\n",
       "      <td>-0.008322</td>\n",
       "    </tr>\n",
       "    <tr>\n",
       "      <th>22</th>\n",
       "      <td>338</td>\n",
       "      <td>潍柴动力</td>\n",
       "      <td>2016-02-03</td>\n",
       "      <td>0.012587</td>\n",
       "    </tr>\n",
       "    <tr>\n",
       "      <th>23</th>\n",
       "      <td>338</td>\n",
       "      <td>潍柴动力</td>\n",
       "      <td>2016-02-04</td>\n",
       "      <td>-0.008287</td>\n",
       "    </tr>\n",
       "    <tr>\n",
       "      <th>24</th>\n",
       "      <td>338</td>\n",
       "      <td>潍柴动力</td>\n",
       "      <td>2016-02-05</td>\n",
       "      <td>-0.012535</td>\n",
       "    </tr>\n",
       "    <tr>\n",
       "      <th>...</th>\n",
       "      <td>...</td>\n",
       "      <td>...</td>\n",
       "      <td>...</td>\n",
       "      <td>...</td>\n",
       "    </tr>\n",
       "    <tr>\n",
       "      <th>16732</th>\n",
       "      <td>601689</td>\n",
       "      <td>拓普集团</td>\n",
       "      <td>2021-12-27</td>\n",
       "      <td>-0.006483</td>\n",
       "    </tr>\n",
       "    <tr>\n",
       "      <th>16733</th>\n",
       "      <td>601689</td>\n",
       "      <td>拓普集团</td>\n",
       "      <td>2021-12-28</td>\n",
       "      <td>-0.013609</td>\n",
       "    </tr>\n",
       "    <tr>\n",
       "      <th>16734</th>\n",
       "      <td>601689</td>\n",
       "      <td>拓普集团</td>\n",
       "      <td>2021-12-29</td>\n",
       "      <td>0.020601</td>\n",
       "    </tr>\n",
       "    <tr>\n",
       "      <th>16735</th>\n",
       "      <td>601689</td>\n",
       "      <td>拓普集团</td>\n",
       "      <td>2021-12-30</td>\n",
       "      <td>-0.018519</td>\n",
       "    </tr>\n",
       "    <tr>\n",
       "      <th>16736</th>\n",
       "      <td>601689</td>\n",
       "      <td>拓普集团</td>\n",
       "      <td>2021-12-31</td>\n",
       "      <td>-0.032075</td>\n",
       "    </tr>\n",
       "  </tbody>\n",
       "</table>\n",
       "<p>12066 rows × 4 columns</p>\n",
       "</div>"
      ],
      "text/plain": [
       "           id  name        date    return\n",
       "20        338  潍柴动力  2016-02-01  0.016925\n",
       "21        338  潍柴动力  2016-02-02 -0.008322\n",
       "22        338  潍柴动力  2016-02-03  0.012587\n",
       "23        338  潍柴动力  2016-02-04 -0.008287\n",
       "24        338  潍柴动力  2016-02-05 -0.012535\n",
       "...       ...   ...         ...       ...\n",
       "16732  601689  拓普集团  2021-12-27 -0.006483\n",
       "16733  601689  拓普集团  2021-12-28 -0.013609\n",
       "16734  601689  拓普集团  2021-12-29  0.020601\n",
       "16735  601689  拓普集团  2021-12-30 -0.018519\n",
       "16736  601689  拓普集团  2021-12-31 -0.032075\n",
       "\n",
       "[12066 rows x 4 columns]"
      ]
     },
     "execution_count": 6,
     "metadata": {},
     "output_type": "execute_result"
    }
   ],
   "source": [
    "y_info = pd.concat([other_info_insample, y], axis=1)\n",
    "y_info"
   ]
  },
  {
   "cell_type": "code",
   "execution_count": 7,
   "metadata": {},
   "outputs": [],
   "source": [
    "def cal_weight(df):\n",
    "    df.loc[:, \"return\"] = df.loc[:, \"return\"] - df.loc[:, \"return\"].min()\n",
    "    df.loc[:, \"weight\"] = df.loc[:, \"return\"]/df.loc[:, \"return\"].sum() if df.loc[:, \"return\"].sum() != 0 else 1/8\n",
    "    return df\n",
    "\n",
    "y = y_info.groupby('date').apply(cal_weight)[\"weight\"]"
   ]
  },
  {
   "cell_type": "code",
   "execution_count": 8,
   "metadata": {},
   "outputs": [],
   "source": [
    "y_info_out = pd.concat([other_info_outsample_test, y_outsample_test], axis=1)\n",
    "y_outsample_test_weight = y_info_out.groupby('date').apply(cal_weight)[\"weight\"]"
   ]
  },
  {
   "cell_type": "code",
   "execution_count": 12,
   "metadata": {},
   "outputs": [],
   "source": [
    "from sklearn.metrics import mean_squared_error"
   ]
  },
  {
   "cell_type": "code",
   "execution_count": 17,
   "metadata": {},
   "outputs": [
    {
     "name": "stdout",
     "output_type": "stream",
     "text": [
      "68/68 [==============================] - 0s 698us/step\n"
     ]
    },
    {
     "data": {
      "text/plain": [
       "array([[0.11796592],\n",
       "       [0.11779053],\n",
       "       [0.11779595],\n",
       "       ...,\n",
       "       [0.11781059],\n",
       "       [0.11821248],\n",
       "       [0.11776026]], dtype=float32)"
      ]
     },
     "execution_count": 17,
     "metadata": {},
     "output_type": "execute_result"
    }
   ],
   "source": [
    "NN.predict(X_outsample_test_scaled)"
   ]
  },
  {
   "cell_type": "code",
   "execution_count": 19,
   "metadata": {},
   "outputs": [
    {
     "name": "stdout",
     "output_type": "stream",
     "text": [
      "378/378 [==============================] - 0s 641us/step\n"
     ]
    },
    {
     "data": {
      "text/plain": [
       "0.00010720067050535757"
      ]
     },
     "execution_count": 19,
     "metadata": {},
     "output_type": "execute_result"
    }
   ],
   "source": [
    "NN.predict(X_scaled).T, y"
   ]
  },
  {
   "cell_type": "code",
   "execution_count": null,
   "metadata": {},
   "outputs": [],
   "source": []
  }
 ],
 "metadata": {
  "kernelspec": {
   "display_name": "base",
   "language": "python",
   "name": "python3"
  },
  "language_info": {
   "codemirror_mode": {
    "name": "ipython",
    "version": 3
   },
   "file_extension": ".py",
   "mimetype": "text/x-python",
   "name": "python",
   "nbconvert_exporter": "python",
   "pygments_lexer": "ipython3",
   "version": "3.9.16"
  }
 },
 "nbformat": 4,
 "nbformat_minor": 2
}
