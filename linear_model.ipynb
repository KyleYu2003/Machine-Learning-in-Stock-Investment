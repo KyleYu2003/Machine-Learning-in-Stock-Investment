{
 "cells": [
  {
   "cell_type": "code",
   "execution_count": 1,
   "metadata": {},
   "outputs": [],
   "source": [
    "import numpy as np\n",
    "import pandas as pd\n",
    "import matplotlib.pyplot as plt"
   ]
  },
  {
   "cell_type": "code",
   "execution_count": 2,
   "metadata": {},
   "outputs": [],
   "source": [
    "data = pd.read_csv('factor_pass9.csv', index_col=0)\n",
    "data.dropna(inplace=True)\n",
    "\n",
    "insample_data = data.loc[data.loc[:, 'date'] < \"2022-01-01\", :]\n",
    "outdsample_data = data.loc[data.loc[:, 'date'] >= \"2022-01-01\", :]\n",
    "\n",
    "X = insample_data.iloc[:, 3:-1]\n",
    "y = insample_data.iloc[:, -1]\n",
    "other_info_outsample_test = outdsample_data.iloc[:, :3]\n",
    "X_outsample_test = outdsample_data.iloc[:, 3:-1]\n",
    "y_outsample_test = outdsample_data.iloc[:, -1]"
   ]
  },
  {
   "cell_type": "code",
   "execution_count": 3,
   "metadata": {},
   "outputs": [
    {
     "data": {
      "text/plain": [
       "array([-1.18619009e-02, -1.03243212e-07,  8.60824082e-05,  4.34762158e-03,\n",
       "        5.25827411e-05, -8.92364556e-04,  8.44783618e-04, -1.07777767e-03,\n",
       "       -3.15561259e-04, -1.52970053e-04, -8.45939859e-02,  1.17726533e-05,\n",
       "       -1.06176352e-15,  4.52856313e-03, -6.81597089e-03,  4.01565725e-04,\n",
       "        7.74141970e-07,  5.08810551e-03, -1.15042225e-03, -7.90508842e-05,\n",
       "        3.25108351e-04, -1.28833226e-04,  4.00996586e-03,  3.92489181e-05,\n",
       "        2.61138144e-03,  2.44145753e-03,  4.10209357e-04, -2.29468340e-09])"
      ]
     },
     "execution_count": 3,
     "metadata": {},
     "output_type": "execute_result"
    }
   ],
   "source": [
    "X = np.c_[np.ones(X.shape[0]), X]\n",
    "theta = np.linalg.inv(X.T.dot(X)).dot(X.T).dot(y)\n",
    "theta"
   ]
  },
  {
   "cell_type": "code",
   "execution_count": 4,
   "metadata": {},
   "outputs": [],
   "source": [
    "def cal_ICIR(data: pd.DataFrame, feild: str) -> tuple[float, float]:\n",
    "    \"\"\"\n",
    "    data is a dataframe with columns: date, return, factor feild\n",
    "    feild is the factor name\n",
    "    return IC and IR\n",
    "    \"\"\"\n",
    "    data = data.loc[:, ['date', 'return', feild]]\n",
    "    data.dropna(inplace=True)\n",
    "    IC_dataframe = data.groupby('date').apply(lambda x: x.corr(method='spearman')[feild]['return'])\n",
    "    return IC_dataframe.mean(), IC_dataframe.mean()/IC_dataframe.std()\n",
    "\n",
    "def test_factor(ICIR: tuple[float, float]) -> str:\n",
    "    \"\"\"\n",
    "    ICIR is a tuple of IC and IR\n",
    "    return the test result\n",
    "    \"\"\"\n",
    "    if abs(ICIR[0]) > 0.01 and abs(ICIR[1]) > 0.03:\n",
    "        return 'pass'\n",
    "    else:\n",
    "        return 'fail'"
   ]
  },
  {
   "cell_type": "code",
   "execution_count": 5,
   "metadata": {},
   "outputs": [
    {
     "name": "stdout",
     "output_type": "stream",
     "text": [
      "(0.018460805431904946, 0.04888638032153474)\n"
     ]
    }
   ],
   "source": [
    "preds = np.c_[np.ones(X_outsample_test.shape[0]), X_outsample_test].dot(theta)\n",
    "matrix = pd.concat([other_info_outsample_test, pd.DataFrame(preds, columns=['preds'], index = X_outsample_test.index), y_outsample_test], axis=1)\n",
    "ICIR = cal_ICIR(matrix, \"preds\")\n",
    "print(ICIR)\n",
    "result = test_factor(ICIR)"
   ]
  },
  {
   "cell_type": "code",
   "execution_count": 7,
   "metadata": {},
   "outputs": [],
   "source": [
    "matrix.to_csv('./result/APT.csv')"
   ]
  }
 ],
 "metadata": {
  "kernelspec": {
   "display_name": "base",
   "language": "python",
   "name": "python3"
  },
  "language_info": {
   "codemirror_mode": {
    "name": "ipython",
    "version": 3
   },
   "file_extension": ".py",
   "mimetype": "text/x-python",
   "name": "python",
   "nbconvert_exporter": "python",
   "pygments_lexer": "ipython3",
   "version": "3.9.16"
  }
 },
 "nbformat": 4,
 "nbformat_minor": 2
}
